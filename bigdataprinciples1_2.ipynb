{
 "cells": [
  {
   "cell_type": "markdown",
   "metadata": {},
   "source": [
    "##Chapter 1##\n",
    "\n",
    "1.What does the CAP theorem show?\n",
    "that it’s impossible to achieve both high availability and consistency in the same system in the\n",
    "presence of network partitions. So a highly available system sometimes returns stale results during a network partition.\n",
    "\n",
    "2.Which is the best way to scale a database without using big data techiques and why?\n",
    "Scaling the database by sharding because it can scale and write-heavy relational database\n",
    "using horizontal partitioning which consists on spread the databases across many servers\n",
    "having each server a subset of the data for the table.\n",
    "\n",
    "3.What are the desired properties of Big Data Systems?\n",
    "Robustness and fault tolerance, low latency on reads and updates, scalability, generalization,\n",
    "extensibility, hoc queries, minimal maintenance and debuggability\n",
    "\n",
    "4.Which is the most importand layer on the Lambda architecture and why?\n",
    "Batch layer because One big difference is that the speed layer only looks at\n",
    "recent data, whereas the batch layer looks at all the data at once. Another big difference\n",
    "is that in order to achieve the smallest latencies possible, the speed layer doesn’t look at all the new data at once. Instead, it updates the real time views as it receives new data instead of recomputing the views from scratch like the batch layer does.\n",
    "\n",
    "5.Describe the Lambda architecture property called complexity isolation\n",
    "Once data makes process from the batch layer to the serving layer the corresponding results in the realtime views are no longer needed. This means you can discard pieces of the realtime view as they’re no longer needed.\n",
    "\n",
    "6.What can you do with spot instances and what is it useful for?\n",
    "It is possible to bid instances instead of pay a fixed prices for them, if someone bids an higher price, you lose the instance because they can dissapear at any moment, it's very important its use for distributed computation sytme like MapReduce since the fault tolerance is handled from the software layer.\n",
    "\n",
    "7.What would be a real benefit on applying lambda architecture?\n",
    "for example, you’ll have the ability to run computations on your whole dataset to do migrations or fix things that go wrong. You’ll never have to deal with situations where there are multiple versions of a schema active at the same time.\n",
    "\n",
    "\n",
    "##Chapter 2##\n",
    "1.How would you reconstruct the aplication of the masterdata set if the serving and speed layer were to lose?\n",
    "you could reconstruct your application from the master dataset. This is because the batch views served by the serving layer are produced via functions on the master dataset, and since the speed layer is based only on recent data, it can construct itself within a few hours.\n",
    "\n",
    "2.What does immutabilty has to do with eternal true of data?\n",
    "The key consequence of immutability is that each piece of data is true in perpetuity. That is, a piece of data, once true, must always be true. Immutability wouldn’t make sense without this property, and you saw how tagging each piece of data with a time-\n",
    "stamp is a practical way to make data eternally true.\n",
    "\n",
    "3.Why facts are atomic?\n",
    "because they can’t be subdivided further into meaningful components. As a consequence of being atomic, there’s no redundancy of\n",
    "information across distinct facts.\n",
    "\n",
    "4.What are the advantages of using enforceable schema?\n",
    "rigorously defines the structure of facts. Enforceable schemas require a bit more work up front, but they guarantee all required fields are present and ensure all values are of the expected type.\n",
    "\n",
    "5.What does enforceable schema describe?\n",
    "information is stored as facts, and a graph schema describes the types of facts contained in the dataset.\n",
    "\n",
    "6.How serialization framework is used?\n",
    "A serialization framework provides a language-neutral way to define the nodes, edges, and properties of your schema. It then generates code\n",
    "(potentially in many different languages) that serializes and deserializes the objects in the schema so they can be stored in and retrieved from master dataset.\n",
    "\n",
    "7.What does the fact-based model provide?\n",
    "The fact-based model provides a simple yet expressive representation of your data by naturally keeping a full history of each entity over time. Its append-only nature makes it easy to implement in a distributed system, and it can easily evolve as your data\n",
    "and your needs change.\n"
   ]
  }
 ],
 "metadata": {
  "kernelspec": {
   "display_name": "Python 3",
   "language": "python",
   "name": "python3"
  },
  "language_info": {
   "codemirror_mode": {
    "name": "ipython",
    "version": 3
   },
   "file_extension": ".py",
   "mimetype": "text/x-python",
   "name": "python",
   "nbconvert_exporter": "python",
   "pygments_lexer": "ipython3",
   "version": "3.7.0"
  }
 },
 "nbformat": 4,
 "nbformat_minor": 2
}
